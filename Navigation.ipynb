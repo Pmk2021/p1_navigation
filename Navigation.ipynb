{
 "cells": [
  {
   "cell_type": "code",
   "execution_count": 1,
   "metadata": {},
   "outputs": [],
   "source": [
    "from unityagents import UnityEnvironment\n",
    "import numpy as np"
   ]
  },
  {
   "cell_type": "code",
   "execution_count": 2,
   "metadata": {
    "scrolled": true
   },
   "outputs": [
    {
     "name": "stderr",
     "output_type": "stream",
     "text": [
      "INFO:unityagents:\n",
      "'Academy' started successfully!\n",
      "Unity Academy name: Academy\n",
      "        Number of Brains: 1\n",
      "        Number of External Brains : 1\n",
      "        Lesson number : 0\n",
      "        Reset Parameters :\n",
      "\t\t\n",
      "Unity brain name: BananaBrain\n",
      "        Number of Visual Observations (per agent): 0\n",
      "        Vector Observation space type: continuous\n",
      "        Vector Observation space size (per agent): 37\n",
      "        Number of stacked Vector Observation: 1\n",
      "        Vector Action space type: discrete\n",
      "        Vector Action space size (per agent): 4\n",
      "        Vector Action descriptions: , , , \n"
     ]
    }
   ],
   "source": [
    "env = UnityEnvironment(file_name=\"Banana_Windows_x86_64/Banana.exe\")"
   ]
  },
  {
   "cell_type": "code",
   "execution_count": 3,
   "metadata": {},
   "outputs": [],
   "source": [
    "brain_name = env.brain_names[0]\n",
    "brain = env.brains[brain_name]"
   ]
  },
  {
   "cell_type": "code",
   "execution_count": 18,
   "metadata": {},
   "outputs": [],
   "source": [
    "import torch \n",
    "import torch.nn as nn\n",
    "import torch.nn.functional as F\n",
    "import numpy as np\n",
    "import matplotlib.pyplot as plt\n",
    "from copy import deepcopy\n",
    "import torch.optim as optim\n",
    "import gym\n",
    "from random import randint"
   ]
  },
  {
   "cell_type": "code",
   "execution_count": 19,
   "metadata": {},
   "outputs": [],
   "source": [
    "class QNetwork(nn.Module):\n",
    "    def __init__(self, state_size, action_size):\n",
    "        super(QNetwork, self).__init__()\n",
    "        self.l1 = nn.Linear(state_size,150)\n",
    "        self.l2 = nn.Linear(150,50)\n",
    "        \n",
    "        self.adv = nn.Linear(50, action_size)\n",
    "        \n",
    "        self.val = nn.Linear(50,1)\n",
    "    def forward(self, state):\n",
    "        state = F.relu(self.l1(state))\n",
    "        state = F.relu(self.l2(state))\n",
    "        advantage = self.adv(state)\n",
    "        state = self.val(state) + (advantage - torch.mean(advantage))\n",
    "        return state"
   ]
  },
  {
   "cell_type": "code",
   "execution_count": 20,
   "metadata": {},
   "outputs": [],
   "source": [
    "class Agent():\n",
    "  def __init__(self, state_space, action_space, gamma):\n",
    "    self.Q_Net = QNetwork(state_space,action_space)\n",
    "    self.Q_Target = deepcopy(self.Q_Net)\n",
    "    self.state_space = state_space\n",
    "    self.action_space = action_space\n",
    "    self.gamma = gamma\n",
    "    self.optimizer = optim.Adam(self.Q_Net.parameters(), lr=0.001)\n",
    "    self.scheduler = optim.lr_scheduler.ExponentialLR(self.optimizer, 0.998)#Multiplies learning rate by 0.998 every game\n",
    "    self.epsilon = 30\n",
    "    \n",
    "  def get_action(self, s):\n",
    "    #picks action using the epsilon greedy algorithm\n",
    "    if randint(0,100) > self.epsilon:\n",
    "      Q_Vals = self.Q_Net(torch.from_numpy(s).float())\n",
    "      return torch.argmax(Q_Vals)\n",
    "    else:\n",
    "      return randint(0,self.action_space - 1)\n",
    "\n",
    "  def train_state(self, s0, s1, action, reward, done):\n",
    "    Q_Vals = self.Q_Net(torch.from_numpy(s0).float())\n",
    "    Target_Q_Vals = self.Q_Target(torch.from_numpy(s1).float())\n",
    "    Next_Q_Vals = self.Q_Net(torch.from_numpy(s1).float())\n",
    "    #Uses Double DQN\n",
    "    if done:\n",
    "      update_loss = (Q_Vals[action] - reward)**2\n",
    "    else:\n",
    "      update_loss = (Q_Vals[action] - self.gamma * Target_Q_Vals[torch.argmax(Next_Q_Vals)] - reward)**2\n",
    "    return update_loss\n",
    "  def update_target(self):\n",
    "    self.Q_Target = deepcopy(self.Q_Net)"
   ]
  },
  {
   "cell_type": "code",
   "execution_count": 21,
   "metadata": {},
   "outputs": [],
   "source": [
    "agent = Agent(37,4, 0.98)\n",
    "\n",
    "num_episodes = 1500\n",
    "batch_size = 16\n",
    "update_frequency = 4\n",
    "T_update_frequency = 10"
   ]
  },
  {
   "cell_type": "code",
   "execution_count": 22,
   "metadata": {},
   "outputs": [
    {
     "name": "stdout",
     "output_type": "stream",
     "text": [
      "0.98\n",
      "3.96\n",
      "7.16\n",
      "6.62\n",
      "9.26\n",
      "10.06\n",
      "11.34\n",
      "11.52\n",
      "11.48\n",
      "11.9\n",
      "11.42\n",
      "11.38\n",
      "12.98\n",
      "12.78\n",
      "14.08\n",
      "15.5\n",
      "14.86\n",
      "15.08\n",
      "14.46\n",
      "16.7\n",
      "16.88\n",
      "16.26\n",
      "17.42\n",
      "17.74\n",
      "16.34\n",
      "15.92\n",
      "17.36\n",
      "17.44\n",
      "17.46\n"
     ]
    }
   ],
   "source": [
    "#Trains agent\n",
    "state_list = list()\n",
    "action_list = list()\n",
    "done_list = list()\n",
    "reward_list = list()\n",
    "next_state_list = list()\n",
    "indexes = list()\n",
    "prob_list = list()\n",
    "b =  0.6\n",
    "a = 0.9\n",
    "\n",
    "score_list = list()\n",
    "score = 0\n",
    "\n",
    "for episode in range(num_episodes):\n",
    "  done = False\n",
    "  env_info = env.reset(train_mode=True)[brain_name]\n",
    "  s0 = env_info.vector_observations[0]       \n",
    "  ep_loss = 0\n",
    "  for frame in range(50000):\n",
    "    action = agent.get_action(s0)#Gets action\n",
    "    env_info = env.step(int(action))[brain_name]#Acts according to chosen action\n",
    "\n",
    "    state = env_info.vector_observations[0]   \n",
    "    reward = env_info.rewards[0]                   \n",
    "    done = env_info.local_done[0] \n",
    "    score += reward\n",
    "    \n",
    "    #Saves states, actions, rewards, and wether is done\n",
    "    state_list.append(s0)\n",
    "    action_list.append(action)\n",
    "    reward_list.append(reward)\n",
    "    next_state_list.append(state)\n",
    "    done_list.append(done)\n",
    "    indexes.append(len(state_list)-1)\n",
    "    if len(prob_list) > 10:\n",
    "        prob_list.append(np.mean(prob_list))\n",
    "    else:\n",
    "        prob_list.append(20)\n",
    "\n",
    "    s0 = state\n",
    "    #Calculates loss and update network\n",
    "    if frame%update_frequency == 0 and episode+frame > 0:\n",
    "      loss = 0\n",
    "      #Implements prioritized experience replay\n",
    "      ind = np.random.choice(np.array(indexes),size = batch_size, p = (np.array(prob_list)**0.9/sum(np.array(prob_list)**0.9)))\n",
    "      for i in ind:\n",
    "        num = i\n",
    "        #calculates loss\n",
    "        d_loss =  agent.train_state(state_list[num],next_state_list[num],action_list[num],reward_list[num],done_list[num])\n",
    "        loss += float(sum(prob_list)/prob_list[i] * 1/batch_size)**b * d_loss \n",
    "        #Updates probability of learning from same state\n",
    "        prob_list[i] = np.sqrt(d_loss.detach().numpy()) + 1\n",
    "        ep_loss += d_loss\n",
    "      #Takes training step\n",
    "      agent.optimizer.zero_grad()\n",
    "      loss.backward()\n",
    "      agent.optimizer.step()\n",
    "    if done:\n",
    "      break\n",
    "  score_list.append(score)\n",
    "  score = 0\n",
    "  #Anneals learning rate, helps speed up training by allowing for high initial learning rate\n",
    "  agent.scheduler.step()\n",
    "  #Slowly lowers epsilon to 0 to reduce probability of random actions\n",
    "  agent.epsilon += -0.03\n",
    "  if b < 1:\n",
    "    b = b + 0.0003\n",
    "  if a > 0:\n",
    "    a = a - 0.0005\n",
    "  #Sets target net equal to Q net every T_update_frequency games\n",
    "  if episode%T_update_frequency == 0 and episode > 0:\n",
    "    agent.update_target()\n",
    "  if episode%50 == 0 and episode > 0:\n",
    "    print(sum(score_list[-50:])/50)\n",
    "  #Only keeps last 10000 states\n",
    "  if len(state_list) > 10000:\n",
    "    state_list = state_list[-10000:]\n",
    "    action_list = action_list[-10000:]\n",
    "    reward_list = reward_list[-10000:]\n",
    "    done_list = done_list[-10000:]\n",
    "    next_state_list = next_state_list[-10000:]\n",
    "    indexes = indexes[:10000]\n",
    "    prob_list = prob_list[-10000:]"
   ]
  },
  {
   "cell_type": "code",
   "execution_count": 23,
   "metadata": {},
   "outputs": [
    {
     "data": {
      "text/plain": [
       "[<matplotlib.lines.Line2D at 0x1b1ac4874a8>]"
      ]
     },
     "execution_count": 23,
     "metadata": {},
     "output_type": "execute_result"
    },
    {
     "data": {
      "image/png": "[encoded data removed]",
      "text/plain": [
       "<Figure size 432x288 with 1 Axes>"
      ]
     },
     "metadata": {
      "needs_background": "light"
     },
     "output_type": "display_data"
    }
   ],
   "source": [
    "#Plots learning curve\n",
    "plt.plot(score_list)"
   ]
  },
  {
   "cell_type": "code",
   "execution_count": 33,
   "metadata": {},
   "outputs": [],
   "source": [
    "#Saves model weights\n",
    "torch.save(agent.Q_Net.state_dict(), 'Navigation_Q_Net')"
   ]
  },
  {
   "cell_type": "code",
   "execution_count": 35,
   "metadata": {},
   "outputs": [
    {
     "name": "stdout",
     "output_type": "stream",
     "text": [
      "17.0\n"
     ]
    }
   ],
   "source": [
    "#Runs game with trained model and prints out score\n",
    "agent = Agent(37,4, 0.98)\n",
    "#Loads model weight\n",
    "agent.Q_Net.load_state_dict(torch.load('Navigation_Q_Net')) \n",
    "#Sets epsilon to 0 since not training\n",
    "agent.epsilon = 0\n",
    "env_info = env.reset(train_mode=False)[brain_name]\n",
    "s0 = env_info.vector_observations[0]       \n",
    "score = 0\n",
    "for frame in range(50000):\n",
    "    action = agent.get_action(s0)\n",
    "    env_info = env.step(int(action))[brain_name] \n",
    "    state = env_info.vector_observations[0]   \n",
    "    reward = env_info.rewards[0]         \n",
    "    score += reward\n",
    "    done = env_info.local_done[0] \n",
    "    s0 = state\n",
    "    if done:\n",
    "        break\n",
    "print(score)"
   ]
  },
  {
   "cell_type": "code",
   "execution_count": 32,
   "metadata": {},
   "outputs": [
    {
     "data": {
      "text/plain": [
       "13.05"
      ]
     },
     "execution_count": 32,
     "metadata": {},
     "output_type": "execute_result"
    }
   ],
   "source": [
    "sum(score_list[641:741])/100"
   ]
  },
  {
   "cell_type": "code",
   "execution_count": null,
   "metadata": {},
   "outputs": [],
   "source": []
  }
 ],
 "metadata": {
  "kernelspec": {
   "display_name": "drlnd",
   "language": "python",
   "name": "drlnd"
  },
  "language_info": {
   "codemirror_mode": {
    "name": "ipython",
    "version": 3
   },
   "file_extension": ".py",
   "mimetype": "text/x-python",
   "name": "python",
   "nbconvert_exporter": "python",
   "pygments_lexer": "ipython3",
   "version": "3.6.10"
  }
 },
 "nbformat": 4,
 "nbformat_minor": 2
}
